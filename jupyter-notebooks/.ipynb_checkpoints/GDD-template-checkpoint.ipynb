{
 "cells": [
  {
   "cell_type": "markdown",
   "id": "completed-findings",
   "metadata": {},
   "source": [
    "# <span style=\"color:red\">GDD Analysis of Two Samples - Template</span>"
   ]
  },
  {
   "cell_type": "markdown",
   "id": "thrown-shannon",
   "metadata": {},
   "source": [
    "### Background\n",
    "\n",
    "GDD, acronym for **G**enomic **D**iversity **D**istribution, is a tool for variant analysis written in Python. It uses multiple libraries, such as Pandas, Numpy, Scikit-Allel, and others. The description and parameters for each function is described below."
   ]
  },
  {
   "cell_type": "markdown",
   "id": "coordinated-teacher",
   "metadata": {},
   "source": [
    "### Import Functions\n",
    "\n",
    "Import all of the functions defined in `GDDfunctions.py` file."
   ]
  },
  {
   "cell_type": "code",
   "execution_count": null,
   "id": "latin-aircraft",
   "metadata": {},
   "outputs": [],
   "source": [
    "from GDDfunctions import *"
   ]
  },
  {
   "cell_type": "markdown",
   "id": "liked-uncle",
   "metadata": {},
   "source": [
    "### Defining VCF File\n",
    "\n",
    "<span style=\"color:red\">Define the path to the VCF file in `vcf_crop`.</span>"
   ]
  },
  {
   "cell_type": "code",
   "execution_count": null,
   "id": "minute-sherman",
   "metadata": {},
   "outputs": [],
   "source": [
    "vcf_crop = '/path/to/vcf_file.vcf'   # to define"
   ]
  },
  {
   "cell_type": "markdown",
   "id": "herbal-classic",
   "metadata": {},
   "source": [
    "### Attributes Available\n",
    "\n",
    "`attributes` contains a dictionary of extracted fields/attributes from the VCF file using the function `extract_attributes()`. The function `attribute_guide()` prints out a more readable description of the available fields/attributes.\n",
    "\n",
    "### extract_attributes( )\n",
    "\n",
    "**Usage**:\n",
    "\n",
    "```\n",
    "   attributes = extract_attributes(vcf_file)\n",
    "```\n",
    "\n",
    "**Description**:\n",
    "\n",
    "Returns a dictionary of the available attributes/fields in the VCF file. The available attributes will be printed, giving the user the option to input wanted attributes besides the mandatory ones (specified in this printed output) in the function `vcf_to_table()` function.The parameter option is:\n",
    "\n",
    "1. `vcf_file` - path/name to VCF file. \n",
    "\n",
    "The output is:\n",
    "\n",
    "1. `attributes` - dictionary containing the available attributes/fields in the VCF file."
   ]
  },
  {
   "cell_type": "code",
   "execution_count": null,
   "id": "thick-trustee",
   "metadata": {},
   "outputs": [],
   "source": [
    "attributes = extract_attributes(vcf_crop)"
   ]
  },
  {
   "cell_type": "markdown",
   "id": "returning-proxy",
   "metadata": {},
   "source": [
    "### attribute_guide( )\n",
    "\n",
    "**Usage**:\n",
    "\n",
    "```\n",
    "   attribute_guide(attribute_dictionary)\n",
    "```\n",
    "\n",
    "**Description**:\n",
    "\n",
    "Prints out attribute name, attribute description, and value type of the available attributes from the `INFO` and `FORMAT` fields of a VCF file. The output specifies whether the field comes from `INFO` or `FORMAT`.The parameter is the following:\n",
    "\n",
    "1. `attribute_dictionary` - dictionary extracted from the VCF file after using `extract_attributes()` function."
   ]
  },
  {
   "cell_type": "code",
   "execution_count": null,
   "id": "gorgeous-imaging",
   "metadata": {},
   "outputs": [],
   "source": [
    "attribute_guide(attributes)"
   ]
  },
  {
   "cell_type": "markdown",
   "id": "elegant-death",
   "metadata": {},
   "source": [
    "### vcf_to_table( )\n",
    "\n",
    "\n",
    "**Usage**:\n",
    "\n",
    "```\n",
    "   samples, vcf_dataframe, chrom_len_dataframe = vcf_to_table(vcf_file)\n",
    "```\n",
    "\n",
    "**Description**:\n",
    "\n",
    "Extracts information from a VCF file as input and returns 3 outputs. The parameters are:\n",
    "\n",
    "1. `vcf_file` - path/name to VCF file. \n",
    "\n",
    "The 3 outputs are the following:\n",
    "\n",
    "1. `samples` - list of samples in the VCF file.\n",
    "2. `vcf_dataframe` - pandas dataframe containing fields specified in prompt.\n",
    "3. `chrom_len_dataframe` - pandas dataframe containing the chromosome names and their respective lengths.\n"
   ]
  },
  {
   "cell_type": "code",
   "execution_count": null,
   "id": "rational-invalid",
   "metadata": {},
   "outputs": [],
   "source": [
    "samples_all, vcf_df_all, chrom_len_all = vcf_to_table(vcf_crop)"
   ]
  },
  {
   "cell_type": "markdown",
   "id": "becoming-water",
   "metadata": {},
   "source": [
    "### Edit progenitor/mutant names accordingly"
   ]
  },
  {
   "cell_type": "code",
   "execution_count": null,
   "id": "growing-norman",
   "metadata": {},
   "outputs": [],
   "source": [
    "samples_all"
   ]
  },
  {
   "cell_type": "markdown",
   "id": "three-scope",
   "metadata": {},
   "source": [
    "<span style=\"color:red\">Define progenitor/mutant pair (sample names) in `progenitor` and `mutant` below.</span>"
   ]
  },
  {
   "cell_type": "code",
   "execution_count": null,
   "id": "protecting-advertiser",
   "metadata": {},
   "outputs": [],
   "source": [
    "progenitor = 'S15'   # to define\n",
    "mutant = 'S13'   # to define\n",
    "samples = [progenitor, mutant]\n",
    "samples"
   ]
  },
  {
   "cell_type": "code",
   "execution_count": null,
   "id": "olive-pursuit",
   "metadata": {},
   "outputs": [],
   "source": [
    "vcf_df_all"
   ]
  },
  {
   "cell_type": "code",
   "execution_count": null,
   "id": "nonprofit-mercy",
   "metadata": {},
   "outputs": [],
   "source": [
    "chrom_len_all"
   ]
  },
  {
   "cell_type": "markdown",
   "id": "veterinary-publicity",
   "metadata": {},
   "source": [
    "### Store chromosome names"
   ]
  },
  {
   "cell_type": "markdown",
   "id": "pressed-shelter",
   "metadata": {},
   "source": [
    "### natsorted( )\n",
    "\n",
    "**Usage**:\n",
    "\n",
    "```\n",
    "   natsorted(list_of_strings)\n",
    "```\n",
    "\n",
    "**Description**:\n",
    "\n",
    "Sorts strings by human/natural sorting."
   ]
  },
  {
   "cell_type": "code",
   "execution_count": null,
   "id": "external-surveillance",
   "metadata": {},
   "outputs": [],
   "source": [
    "chromosomes = vcf_df_all['CHROM'].unique()\n",
    "natsorted(chromosomes)"
   ]
  },
  {
   "cell_type": "markdown",
   "id": "forced-filing",
   "metadata": {},
   "source": [
    "## <span style=\"color:blue\">PART 0: Analysis of Raw Dataframes </span>"
   ]
  },
  {
   "cell_type": "markdown",
   "id": "atlantic-speed",
   "metadata": {},
   "source": [
    "### Contingency Table - RAW - All Chromosomes"
   ]
  },
  {
   "cell_type": "markdown",
   "id": "polyphonic-three",
   "metadata": {},
   "source": [
    "### ct_table( )\n",
    "\n",
    "**Usage**:\n",
    "\n",
    "```\n",
    "   ct_table(samples, vcf_dataframe, chromosome_name)\n",
    "```\n",
    "\n",
    "**Description**:\n",
    "\n",
    "Returns a contingency table of two samples in table form. The parameters are the following:\n",
    "\n",
    "1. `samples` - list of two samples.\n",
    "2. `vcf_dataframe` - pandas dataframe containing the genotypes GT of the `samples` extracted from the VCF file; the dataframe can also be mutated after filtering being done.\n",
    "3. `chromosome_name` - a string used to save the name of the chromosome being compared; to print the contingency table of a specific chromosome, the `vcf_dataframe` first needs to be filtered for the specific chromosome; if printing contingency table of all chromosomes, type `all`."
   ]
  },
  {
   "cell_type": "code",
   "execution_count": null,
   "id": "nasty-scout",
   "metadata": {},
   "outputs": [],
   "source": [
    "ct_table(samples, vcf_df_all, 'all')"
   ]
  },
  {
   "cell_type": "markdown",
   "id": "endangered-daisy",
   "metadata": {},
   "source": [
    "### Contingency Table per Chromosome - RAW - All Chromosomes"
   ]
  },
  {
   "cell_type": "markdown",
   "id": "present-store",
   "metadata": {},
   "source": [
    "### extract_df_data( )\n",
    "\n",
    "**Usage**:\n",
    "\n",
    "```\n",
    "   filtered_vcf_dataframe = filter_vcf(vcf_dataframe, filter_list)\n",
    "```\n",
    "\n",
    "**Description**:\n",
    "\n",
    "Returns a filtered vcf_dataframe. A filter list can be input in the `filter_list` parameter. The parameter options are:\n",
    "\n",
    "1. `vcf_dataframe` - pandas dataframe containing all the samples' attributes to be analyzed.\n",
    "2. `filter_list` - string containing comparison operators, while each comparison is separated by commas; as an example, if only SNPs variants are to be kept, while also clipping depth/coverage, chromosome, specific genotype, and quality, here is how it is done:\n",
    "\n",
    "```\n",
    "   filter_list = \"TYPE == snp, DP >= 10, DP <= 100, CHROM != mitochondria, GT_mutant == 1/1, QUAL > 1000\"\n",
    "   filtered_vcf_dataframe = extract_df_data(vcf_dataframe, filter_list)\n",
    "```"
   ]
  },
  {
   "cell_type": "code",
   "execution_count": null,
   "id": "descending-personal",
   "metadata": {},
   "outputs": [],
   "source": [
    "for chromosome in natsorted(chromosomes):\n",
    "    chrom_filter = \"CHROM == %s\" % chromosome\n",
    "    chromosome_df = extract_df_data(vcf_df_all, chrom_filter)\n",
    "    ct_table(samples, chromosome_df, chromosome)"
   ]
  },
  {
   "cell_type": "markdown",
   "id": "floating-civilization",
   "metadata": {},
   "source": [
    "### Genotype (GT) Plot - RAW - All Chromosomes (takes some time)"
   ]
  },
  {
   "cell_type": "markdown",
   "id": "characteristic-cargo",
   "metadata": {},
   "source": [
    "### gt_plot( ) \n",
    "\n",
    "**Usage**:\n",
    "\n",
    "```\n",
    "   gt_plot(samples, vcf_dataframe, chrom_len_dataframe, linethickness=0.02)\n",
    "```\n",
    "\n",
    "**Description**:\n",
    "\n",
    "Plots the 0/0, 0/1, 1/1 genotypes of each chromosome per sample in one figure. The parameters are:\n",
    "\n",
    "1. `samples` - list of samples to focus on from VCF file.\n",
    "2. `vcf_dataframe` - pandas dataframe containing the `sampleName_GT` field per sample.\n",
    "3. `chrom_len_dataframe` - pandas dataframe containing the chromosome names and their respective lengths.\n",
    "4. `linethickness` - default to 0.02; useful to control line thickness when only a few genotypes are present in the dataframe. "
   ]
  },
  {
   "cell_type": "code",
   "execution_count": null,
   "id": "pressed-yellow",
   "metadata": {},
   "outputs": [],
   "source": [
    "plt.close('all')\n",
    "gt_plot(samples, vcf_df_all, chrom_len_all)"
   ]
  },
  {
   "cell_type": "markdown",
   "id": "altered-patio",
   "metadata": {},
   "source": [
    "### Genotype (GT) Plots per Chromosome - RAW - All Chromosomes"
   ]
  },
  {
   "cell_type": "markdown",
   "id": "fantastic-future",
   "metadata": {},
   "source": [
    "### gt_plots( ) \n",
    "\n",
    "**Usage**:\n",
    "\n",
    "```\n",
    "   gt_plots(samples, vcf_dataframe, chrom_len_dataframe, linethickness=0.02)\n",
    "```\n",
    "\n",
    "**Description**:\n",
    "\n",
    "Plots the 0/0, 0/1, and 1/1 genotypes per chromosome per sample. The parameters are:\n",
    "\n",
    "1. `samples` - list samples being analyzed.\n",
    "2. `vcf_dataframe` - pandas dataframe containing the `sampleName_GT` field per sample.\n",
    "3. `chrom_len_dataframe` - pandas dataframe containing the chromosome names and their respective lengths.\n",
    "4. `linethickness` - default to 0.02; useful to control line thickness when only a few genotypes are present in the dataframe."
   ]
  },
  {
   "cell_type": "code",
   "execution_count": null,
   "id": "digital-complement",
   "metadata": {},
   "outputs": [],
   "source": [
    "plt.close('all')\n",
    "gt_plots(samples, vcf_df_all, chrom_len_all)"
   ]
  },
  {
   "cell_type": "markdown",
   "id": "capable-pearl",
   "metadata": {},
   "source": [
    "### Histograms RAW - `DP`, `QUAL`, `TYPE` and `GT` Attributes - All Chromosomes"
   ]
  },
  {
   "cell_type": "markdown",
   "id": "chubby-hawaiian",
   "metadata": {},
   "source": [
    "### variant_hist( ) \n",
    "\n",
    "**Usage**:\n",
    "\n",
    "```\n",
    "   variant_hist(samples, vcf_dataframe, chromosome, attribute, bins=50, MSTD=False, xmin=0, xmax=0)\n",
    "```\n",
    "\n",
    "**Description**:\n",
    "\n",
    "Plots histogram of specified `attribute` from the `vcf_dataframe`. The parameters are:\n",
    "\n",
    "1. `samples` - list of samples; used to create title of plot and to save the plot with the samples being analyzed; does not affect the output of the histogram.\n",
    "2. `vcf_dataframe` - pandas dataframe containing all the samples' attributes to be analyzed.\n",
    "3. `chromosome` - string of chromosome being analyzed; if analyzing variants from all chromosomes, insert `all` as the parameter; used to create title and save the plot; does not affect the output of histogram.\n",
    "4. `attribute` - attribute being analyzed; options are dependent on the attributes available in the VCF file and on the user input using `vcf_to_table()` function.\n",
    "5. `bins` - number of bins for the histogram grouping.\n",
    "6. `MSTD` - default to `False`; if `True`, the histogram will include the Mean and STandard Deviation (MSTD) values, while showing vertical lines of the first ± standard deviation.\n",
    "7. `xmin` - default to 0; if edited, will not work unless used in combination with the `xmax` parameter.\n",
    "8. `xmax` - default to 0, which in reality plots all the way to the maximum X value of the attribute; when bigger than 0, the x-axis will be limited to the number inserted."
   ]
  },
  {
   "cell_type": "code",
   "execution_count": null,
   "id": "reverse-delivery",
   "metadata": {},
   "outputs": [],
   "source": [
    "variant_hist(samples, vcf_df_all, 'all', 'DP', bins=200, MSTD=True)"
   ]
  },
  {
   "cell_type": "code",
   "execution_count": null,
   "id": "moderate-construction",
   "metadata": {},
   "outputs": [],
   "source": [
    "variant_hist(samples, vcf_df_all, 'all', 'QUAL', bins=200,  MSTD=True)"
   ]
  },
  {
   "cell_type": "code",
   "execution_count": null,
   "id": "sensitive-property",
   "metadata": {},
   "outputs": [],
   "source": [
    "# TYPE attribute not present in GATK-extracted VCF files\n",
    "variant_hist(samples, vcf_df_all, 'all', 'TYPE', bins=5)"
   ]
  },
  {
   "cell_type": "code",
   "execution_count": null,
   "id": "internal-playback",
   "metadata": {},
   "outputs": [],
   "source": [
    "variant_hist(samples, vcf_df_all, 'all', 'GT_%s' % progenitor, bins=15)"
   ]
  },
  {
   "cell_type": "code",
   "execution_count": null,
   "id": "descending-original",
   "metadata": {},
   "outputs": [],
   "source": [
    "variant_hist(samples, vcf_df_all, 'all', 'GT_%s' % mutant, bins=15)"
   ]
  },
  {
   "cell_type": "markdown",
   "id": "experimental-valentine",
   "metadata": {},
   "source": [
    "### Stacked Bar Plots of Genotypes - RAW"
   ]
  },
  {
   "cell_type": "markdown",
   "id": "opened-wheel",
   "metadata": {},
   "source": [
    "### ct_guide( )\n",
    "\n",
    "**Usage**: \n",
    "\n",
    "```\n",
    "   ct_guide()\n",
    "```\n",
    "\n",
    "**Description**:\n",
    "\n",
    "Prints out a table, showing letters that serve as a guide for the contingency table bar plots output from the `ct_bar_plots()` function."
   ]
  },
  {
   "cell_type": "code",
   "execution_count": null,
   "id": "fatal-aquatic",
   "metadata": {},
   "outputs": [],
   "source": [
    "ct_guide()"
   ]
  },
  {
   "cell_type": "markdown",
   "id": "martial-utilization",
   "metadata": {},
   "source": [
    "### ct_bar_plots( )\n",
    "\n",
    "**Usage**:\n",
    "\n",
    "```\n",
    "   ct_bar_plots(samples, vcf_dataframe, chrom_len_dataframe, window_size)\n",
    "```\n",
    "\n",
    "**Description**:\n",
    "\n",
    "Plots a genotypic contingency histogram of two samples, depicting by color genotypes along each chromosome. It is essential to use the contingency table guide printed from the output of the `ct_guide()` function. The parameters consist of:\n",
    "\n",
    "1. `samples` - list of the two samples being compared.\n",
    "2. `vcf_dataframe` - pandas dataframe containing the `GT_sampleA` and `GT_sampleB` fields.\n",
    "3. `chrom_len_dataframe` - pandas dataframe containing the chromosome names and their respective lengths.\n",
    "4. `window_size` - the length in base-pairs (bp) of the window size to be analyzed."
   ]
  },
  {
   "cell_type": "markdown",
   "id": "patent-bristol",
   "metadata": {},
   "source": [
    "<span style=\"color:red\">Define window size in `window_size` below.</span>"
   ]
  },
  {
   "cell_type": "code",
   "execution_count": null,
   "id": "centered-ensemble",
   "metadata": {},
   "outputs": [],
   "source": [
    "plt.close('all')\n",
    "window_size = 1000000   # to define\n",
    "ct_bar_plots(samples, vcf_df_all, chrom_len_all, window_size)"
   ]
  },
  {
   "cell_type": "markdown",
   "id": "geological-baltimore",
   "metadata": {},
   "source": [
    "### Mirrored Bar Plots of Genotypes - RAW"
   ]
  },
  {
   "cell_type": "markdown",
   "id": "favorite-smoke",
   "metadata": {},
   "source": [
    "### gt_bar_plots( )\n",
    "\n",
    "**Usage**:\n",
    "\n",
    "```\n",
    "   gt_bar_plots(samples, vcf_dataframe, chrom_len_dataframe, window_size)\n",
    "```\n",
    "\n",
    "**Description**:\n",
    "\n",
    "Plots genotypic histograms of two samples, depicting by color 0/0, 0/1, or 1/1 genotypes along each chromosome per sample. The parameters consist of:\n",
    "\n",
    "1. `samples` - list of the two samples being compared.\n",
    "2. `vcf_dataframe` - pandas dataframe containing the `GT_sampleA` and `GT_sampleB` fields.\n",
    "3. `chrom_len_dataframe` - pandas dataframe containing the chromosome names and their respective lengths.\n",
    "4. `window_size` - the length in base-pairs (bp) of the window size to be analyzed."
   ]
  },
  {
   "cell_type": "markdown",
   "id": "needed-webcam",
   "metadata": {},
   "source": [
    "<span style=\"color:red\">Define window size in `window_size` below.</span>"
   ]
  },
  {
   "cell_type": "code",
   "execution_count": null,
   "id": "cheap-maple",
   "metadata": {},
   "outputs": [],
   "source": [
    "plt.close('all')\n",
    "window_size = 1000000   # to define\n",
    "gt_bar_plots(samples, vcf_df_all, chrom_len_all, window_size)"
   ]
  },
  {
   "cell_type": "markdown",
   "id": "dense-consensus",
   "metadata": {},
   "source": [
    "## <span style=\"color:blue\">PART 1: Filter Out Mitochondria and Chloroplast Chromosomes </span>"
   ]
  },
  {
   "cell_type": "markdown",
   "id": "initial-punishment",
   "metadata": {},
   "source": [
    "### Drop Mitochrondria and Chloroplast Chromosomes from `vcf_df_all` and `chrom_len_all`"
   ]
  },
  {
   "cell_type": "markdown",
   "id": "absent-press",
   "metadata": {},
   "source": [
    "### extract_df_data( )\n",
    "\n",
    "**Usage**:\n",
    "\n",
    "```\n",
    "   filtered_vcf_dataframe = filter_vcf(vcf_dataframe, filter_list)\n",
    "```\n",
    "\n",
    "**Description**:\n",
    "\n",
    "Returns a filtered vcf_dataframe. A filter list can be input in the `filter_list` parameter. The parameter options are:\n",
    "\n",
    "1. `vcf_dataframe` - pandas dataframe containing all the samples' attributes to be analyzed.\n",
    "2. `filter_list` - string containing comparison operators, while each comparison is separated by commas; as an example, if only SNPs variants are to be kept, while also clipping depth/coverage, chromosome, specific genotype, and quality, here is how it is done:\n",
    "\n",
    "```\n",
    "   filter_list = \"TYPE == snp, DP >= 10, DP <= 100, CHROM != mitochondria, GT_mutant == 1/1, QUAL > 1000\"\n",
    "   filtered_vcf_dataframe = extract_df_data(vcf_dataframe, filter_list)\n",
    "```"
   ]
  },
  {
   "cell_type": "markdown",
   "id": "changing-payroll",
   "metadata": {},
   "source": [
    "<span style=\"color:red\">Change the mitochondria/chloroplasts names in the following string variables:\n",
    "\n",
    "- `mito_chloro_filter`\n",
    "- `mito_chloro`</span>"
   ]
  },
  {
   "cell_type": "code",
   "execution_count": null,
   "id": "angry-change",
   "metadata": {},
   "outputs": [],
   "source": [
    "# filter out mitochondria and chloroplast from vcf dataframe \n",
    "mito_chloro_filter = \"CHROM != MitoName, CHROM != ChloroName\"   # to define\n",
    "\n",
    "vcf_df_00 = extract_df_data(vcf_df_all, mito_chloro_filter)\n",
    "vcf_df_00\n",
    "\n",
    "# filter out mitochondria and chloroplast from chromosome names/lengths dataframe \n",
    "mito_chloro = ['MitoName','ChloroName']   # to define\n",
    "\n",
    "chrom_len_00 = chrom_len_all.drop(mito_chloro)\n",
    "chrom_len_00"
   ]
  },
  {
   "cell_type": "markdown",
   "id": "german-recipe",
   "metadata": {},
   "source": [
    "### Create Mitochrondria and Chloroplast Variants and Chomosome Length Dataframes"
   ]
  },
  {
   "cell_type": "markdown",
   "id": "guilty-motorcycle",
   "metadata": {},
   "source": [
    "<span style=\"color:red\">Change the mitochondria/chloroplasts names in the following string variables:\n",
    "\n",
    "- `drop_chrom`</span>"
   ]
  },
  {
   "cell_type": "code",
   "execution_count": null,
   "id": "genetic-separation",
   "metadata": {},
   "outputs": [],
   "source": [
    "# extract mitochrondria and chloroplast from vcf dataframe\n",
    "drop_chrom = \"CHROM == MitoName, CHROM == ChloroName\"   # to define\n",
    "\n",
    "vcf_df_mito_chloro = extract_df_data(vcf_df_all, drop_chrom)\n",
    "vcf_df_mito_chloro\n",
    "\n",
    "# extract mitochondria and chloroplast from chromosome names/lengths dataframe \n",
    "mito_chloro_len = chrom_len_all.loc[mito_chloro]\n",
    "mito_chloro_len"
   ]
  },
  {
   "cell_type": "markdown",
   "id": "conscious-hands",
   "metadata": {},
   "source": [
    "### Contingency Table - No Mitochondria/Chloroplast"
   ]
  },
  {
   "cell_type": "code",
   "execution_count": null,
   "id": "provincial-connecticut",
   "metadata": {},
   "outputs": [],
   "source": [
    "ct_table(samples, vcf_df_00, 'all')"
   ]
  },
  {
   "cell_type": "markdown",
   "id": "acute-stone",
   "metadata": {},
   "source": [
    "### GT Plot - No Mitochondria/Chloroplast"
   ]
  },
  {
   "cell_type": "code",
   "execution_count": null,
   "id": "worst-penny",
   "metadata": {},
   "outputs": [],
   "source": [
    "plt.close('all')\n",
    "gt_plot(samples, vcf_df_00, chrom_len_00)"
   ]
  },
  {
   "cell_type": "markdown",
   "id": "extensive-albania",
   "metadata": {},
   "source": [
    "### GT Plot - Mitochondria/Chloroplast Only"
   ]
  },
  {
   "cell_type": "code",
   "execution_count": null,
   "id": "excited-monday",
   "metadata": {},
   "outputs": [],
   "source": [
    "plt.close('all')\n",
    "gt_plot(samples, vcf_df_mito_chloro, mito_chloro_len, linethickness=1.0)"
   ]
  },
  {
   "cell_type": "markdown",
   "id": "according-detail",
   "metadata": {},
   "source": [
    "### Histograms - `DP`, `QUAL`, `TYPE` and `GT` Attributes - No Mitochondria/Chloroplast"
   ]
  },
  {
   "cell_type": "code",
   "execution_count": null,
   "id": "packed-blame",
   "metadata": {},
   "outputs": [],
   "source": [
    "variant_hist(samples, vcf_df_00, 'all', 'DP', bins=200, MSTD=True)"
   ]
  },
  {
   "cell_type": "code",
   "execution_count": null,
   "id": "unexpected-scientist",
   "metadata": {},
   "outputs": [],
   "source": [
    "variant_hist(samples, vcf_df_00, 'all', 'QUAL', bins=200,  MSTD=True)"
   ]
  },
  {
   "cell_type": "code",
   "execution_count": null,
   "id": "finite-polls",
   "metadata": {},
   "outputs": [],
   "source": [
    "variant_hist(samples, vcf_df_00, 'all', 'TYPE', bins=5)"
   ]
  },
  {
   "cell_type": "code",
   "execution_count": null,
   "id": "distributed-diving",
   "metadata": {},
   "outputs": [],
   "source": [
    "variant_hist(samples, vcf_df_00, 'all', 'GT_%s' % progenitor, bins=15)"
   ]
  },
  {
   "cell_type": "code",
   "execution_count": null,
   "id": "expired-alberta",
   "metadata": {},
   "outputs": [],
   "source": [
    "variant_hist(samples, vcf_df_00, 'all', 'GT_%s' % mutant, bins=15)"
   ]
  },
  {
   "cell_type": "markdown",
   "id": "white-diagnosis",
   "metadata": {},
   "source": [
    "## <span style=\"color:blue\">PART 2: Cutting Off by Mean±2StdDev Histograms of `DP` Attribute</span>"
   ]
  },
  {
   "cell_type": "markdown",
   "id": "universal-dakota",
   "metadata": {},
   "source": [
    "### Defining the left/right cutoffs\n",
    "\n",
    "<span style=\"color:red\">Change the left and right cutoffs values in the following string variables:\n",
    "\n",
    "- `dp_cutoff_left`\n",
    "- `dp_cutoff_right`</span>"
   ]
  },
  {
   "cell_type": "code",
   "execution_count": null,
   "id": "rotary-physics",
   "metadata": {},
   "outputs": [],
   "source": [
    "# Mean and StdDev of depth/coverage calculated from vcf_df_00\n",
    "dp_mean = vcf_df_00.DP.mean()\n",
    "dp_std = vcf_df_00.DP.std()\n",
    "\n",
    "# edit the cutoffs as necessary\n",
    "dp_cutoff_left = dp_mean - (2 * dp_std)   # to define\n",
    "dp_cutoff_right = dp_mean + (2 * dp_std)   # to define\n",
    "\n",
    "dp_filter = \"DP >= %i, DP <= %i\" % (dp_cutoff_left, dp_cutoff_right)\n",
    "print(dp_filter)\n",
    "\n",
    "vcf_df_01 = extract_df_data(vcf_df_00, dp_filter)\n",
    "vcf_df_01"
   ]
  },
  {
   "cell_type": "markdown",
   "id": "substantial-friend",
   "metadata": {},
   "source": [
    "### Verify DP/QUAL Histograms after Cutoff"
   ]
  },
  {
   "cell_type": "code",
   "execution_count": null,
   "id": "former-justice",
   "metadata": {},
   "outputs": [],
   "source": [
    "variant_hist(samples, vcf_df_01, 'all', 'DP', bins=100)"
   ]
  },
  {
   "cell_type": "code",
   "execution_count": null,
   "id": "informed-exception",
   "metadata": {},
   "outputs": [],
   "source": [
    "variant_hist(samples, vcf_df_01, 'all', 'QUAL', bins=100, MSTD=True)"
   ]
  },
  {
   "cell_type": "markdown",
   "id": "focal-insertion",
   "metadata": {},
   "source": [
    "### Contingency Table after DP Cutoffs"
   ]
  },
  {
   "cell_type": "code",
   "execution_count": null,
   "id": "strange-fashion",
   "metadata": {},
   "outputs": [],
   "source": [
    "ct_table(samples, vcf_df_01, 'all')"
   ]
  },
  {
   "cell_type": "markdown",
   "id": "therapeutic-point",
   "metadata": {},
   "source": [
    "### GT Plot after DP Cutoffs"
   ]
  },
  {
   "cell_type": "code",
   "execution_count": null,
   "id": "matched-screw",
   "metadata": {},
   "outputs": [],
   "source": [
    "plt.close('all')\n",
    "gt_plot(samples, vcf_df_01, chrom_len_00)"
   ]
  },
  {
   "cell_type": "markdown",
   "id": "useful-prototype",
   "metadata": {},
   "source": [
    "### Histogram 'GT' Attribute after DP Cutoff"
   ]
  },
  {
   "cell_type": "code",
   "execution_count": null,
   "id": "upset-building",
   "metadata": {},
   "outputs": [],
   "source": [
    "variant_hist(samples, vcf_df_01, 'all', 'GT_%s' % progenitor, bins=15)"
   ]
  },
  {
   "cell_type": "code",
   "execution_count": null,
   "id": "organizational-blast",
   "metadata": {},
   "outputs": [],
   "source": [
    "variant_hist(samples, vcf_df_01, 'all', 'GT_%s' % mutant, bins=15)"
   ]
  },
  {
   "cell_type": "markdown",
   "id": "correct-treaty",
   "metadata": {},
   "source": [
    "## <span style=\"color:blue\">PART 3: Extract Mutation `snp`/`mnp`/`ins`/`del`/`complex` from `TYPE` Attribute</span>"
   ]
  },
  {
   "cell_type": "markdown",
   "id": "electoral-satin",
   "metadata": {},
   "source": [
    "### Choosing the mutation TYPE\n",
    "\n",
    "---\n",
    "<span style=\"color:orange\">**WARNING:**</span>\n",
    "\n",
    "     `TYPE` attribute not present in VCF files ran through GATK.\n",
    "\n",
    "---"
   ]
  },
  {
   "cell_type": "markdown",
   "id": "editorial-edward",
   "metadata": {},
   "source": [
    "<span style=\"color:red\">Choose the appropriate mutation type below by uncommenting the corresponding line.</span>"
   ]
  },
  {
   "cell_type": "code",
   "execution_count": null,
   "id": "unable-stream",
   "metadata": {},
   "outputs": [],
   "source": [
    "# extract_type = \"TYPE == snp\"                  # SNPs     \n",
    "# extract_type = \"TYPE == mnp\"                  # MNPs\n",
    "# extract_type = \"TYPE == complex\"              # complex\n",
    "# extract_type = \"TYPE == ins, TYPE == del\"     # InDels\n",
    "\n",
    "vcf_df_02 = extract_df_data(vcf_df_01, extract_type)"
   ]
  },
  {
   "cell_type": "markdown",
   "id": "gothic-effectiveness",
   "metadata": {},
   "source": [
    "### TYPE Histogram Verification"
   ]
  },
  {
   "cell_type": "code",
   "execution_count": null,
   "id": "brutal-reggae",
   "metadata": {},
   "outputs": [],
   "source": [
    "variant_hist(samples, vcf_df_02, 'all', 'TYPE', bins=5)"
   ]
  },
  {
   "cell_type": "markdown",
   "id": "coordinate-prospect",
   "metadata": {},
   "source": [
    "### Contingency Table of TYPE only"
   ]
  },
  {
   "cell_type": "code",
   "execution_count": null,
   "id": "straight-script",
   "metadata": {},
   "outputs": [],
   "source": [
    "ct_table(samples, vcf_df_02, 'all')"
   ]
  },
  {
   "cell_type": "markdown",
   "id": "accessory-legislation",
   "metadata": {},
   "source": [
    "### GT Plot of chosen TYPE"
   ]
  },
  {
   "cell_type": "code",
   "execution_count": null,
   "id": "accepting-finland",
   "metadata": {},
   "outputs": [],
   "source": [
    "plt.close('all')\n",
    "gt_plot(samples, vcf_df_02, chrom_len_00)"
   ]
  },
  {
   "cell_type": "markdown",
   "id": "textile-czech",
   "metadata": {},
   "source": [
    "### Histograms - DP, QUAL, and GT Attributes after TYPE Filtering"
   ]
  },
  {
   "cell_type": "code",
   "execution_count": null,
   "id": "alien-group",
   "metadata": {},
   "outputs": [],
   "source": [
    "variant_hist(samples, vcf_df_02, 'all', 'DP', bins=200)"
   ]
  },
  {
   "cell_type": "code",
   "execution_count": null,
   "id": "tough-trout",
   "metadata": {},
   "outputs": [],
   "source": [
    "variant_hist(samples, vcf_df_02, 'all', 'QUAL', bins=200,  MSTD=True)"
   ]
  },
  {
   "cell_type": "code",
   "execution_count": null,
   "id": "amateur-casino",
   "metadata": {},
   "outputs": [],
   "source": [
    "variant_hist(samples, vcf_df_02, 'all', 'GT_%s' % progenitor, bins=15)"
   ]
  },
  {
   "cell_type": "code",
   "execution_count": null,
   "id": "internal-broadcast",
   "metadata": {},
   "outputs": [],
   "source": [
    "variant_hist(samples, vcf_df_02, 'all', 'GT_%s' % mutant, bins=15)"
   ]
  },
  {
   "cell_type": "markdown",
   "id": "higher-rapid",
   "metadata": {},
   "source": [
    "## <span style=\"color:blue\">PART 4: Cutting Off by Mean±2StdDev Histograms of `QUAL` Attribute</span>"
   ]
  },
  {
   "cell_type": "markdown",
   "id": "elect-chassis",
   "metadata": {},
   "source": [
    "### Defining the left/right cutoffs\n",
    "\n",
    "<span style=\"color:red\">Change the left and right cutoffs values in the following string variables:\n",
    "\n",
    "- `qual_cutoff_left`\n",
    "- `qual_cutoff_right`</span>"
   ]
  },
  {
   "cell_type": "code",
   "execution_count": null,
   "id": "assisted-genealogy",
   "metadata": {},
   "outputs": [],
   "source": [
    "# Mean and StdDev of quality calculated from vcf_df_02\n",
    "qual_mean = vcf_df_02.QUAL.mean()\n",
    "qual_std = vcf_df_02.QUAL.std()\n",
    "\n",
    "# edit the cutoffs as necessary\n",
    "qual_cutoff_left = qual_mean - (2 * qual_std)   # to define\n",
    "qual_cutoff_right = qual_mean + (2 * qual_std)   # to define\n",
    "\n",
    "qual_filter = \"QUAL >= %i, QUAL <= %i\" % (qual_cutoff_left, qual_cutoff_right)\n",
    "print(qual_filter)\n",
    "\n",
    "vcf_df_03 = extract_df_data(vcf_df_02, qual_filter)\n",
    "vcf_df_03"
   ]
  },
  {
   "cell_type": "markdown",
   "id": "fixed-homework",
   "metadata": {},
   "source": [
    "### Verify `DP` and `QUAL` Histograms after `QUAL` Cutoff Off"
   ]
  },
  {
   "cell_type": "code",
   "execution_count": null,
   "id": "compressed-outdoors",
   "metadata": {},
   "outputs": [],
   "source": [
    "variant_hist(samples, vcf_df_03, 'all', 'DP', bins=200)"
   ]
  },
  {
   "cell_type": "code",
   "execution_count": null,
   "id": "guilty-graduate",
   "metadata": {},
   "outputs": [],
   "source": [
    "variant_hist(samples, vcf_df_03, 'all', 'QUAL', bins=100)"
   ]
  },
  {
   "cell_type": "markdown",
   "id": "magnetic-rubber",
   "metadata": {},
   "source": [
    "### Contingency Table After QUAL Cutoff"
   ]
  },
  {
   "cell_type": "code",
   "execution_count": null,
   "id": "geographic-analysis",
   "metadata": {},
   "outputs": [],
   "source": [
    " ct_table(samples, vcf_df_03, 'all')"
   ]
  },
  {
   "cell_type": "markdown",
   "id": "incredible-albuquerque",
   "metadata": {},
   "source": [
    "### GT Plot After QUAL Cutoff"
   ]
  },
  {
   "cell_type": "code",
   "execution_count": null,
   "id": "fuzzy-petroleum",
   "metadata": {},
   "outputs": [],
   "source": [
    "plt.close('all')\n",
    "gt_plot(samples, vcf_df_03, chrom_len_00)"
   ]
  },
  {
   "cell_type": "markdown",
   "id": "manufactured-collector",
   "metadata": {},
   "source": [
    "### Histograms after QUAL Cutoff by Mean±StdDev"
   ]
  },
  {
   "cell_type": "code",
   "execution_count": null,
   "id": "inner-range",
   "metadata": {},
   "outputs": [],
   "source": [
    "variant_hist(samples, vcf_df_03, 'all', 'GT_%s' % progenitor, bins=15)"
   ]
  },
  {
   "cell_type": "code",
   "execution_count": null,
   "id": "through-insider",
   "metadata": {},
   "outputs": [],
   "source": [
    "variant_hist(samples, vcf_df_03, 'all', 'GT_%s' % mutant, bins=15)"
   ]
  },
  {
   "cell_type": "markdown",
   "id": "actual-pointer",
   "metadata": {},
   "source": [
    "## <span style=\"color:blue\">PART 5: Genotype GTs Extraction and Filtering Similar Genotypes</span>"
   ]
  },
  {
   "cell_type": "markdown",
   "id": "discrete-reset",
   "metadata": {},
   "source": [
    "### Extract variants with 0/0, 0/1, 1/1, ./. genotypes"
   ]
  },
  {
   "cell_type": "code",
   "execution_count": null,
   "id": "effective-daily",
   "metadata": {},
   "outputs": [],
   "source": [
    "# to define\n",
    "gt_filters = \"GT_%s == ./., GT_%s == 0/0, GT_%s == 0/1, GT_%s == 1/1, GT_%s == ./., GT_%s == 0/0, GT_%s == 0/1, GT_%s == 1/1\" % (progenitor, progenitor, progenitor, progenitor, mutant, mutant, mutant, mutant)\n",
    "gt_filters\n",
    "\n",
    "vcf_df_04 = extract_df_data(vcf_df_03, gt_filters)\n",
    "vcf_df_04"
   ]
  },
  {
   "cell_type": "markdown",
   "id": "organizational-brown",
   "metadata": {},
   "source": [
    "### Filter out similar GTs 0/0, 1/1"
   ]
  },
  {
   "cell_type": "markdown",
   "id": "empirical-heritage",
   "metadata": {},
   "source": [
    "### filter_sim_gt( )\n",
    "\n",
    "**Usage**:\n",
    "\n",
    "```\n",
    "   filtered_vcf_dataframe = filter_sim_gt(samples, vcf_dataframe, genotype_list)\n",
    "```\n",
    "\n",
    "**Description**:\n",
    "\n",
    "Returns a dataframe that has filtered out variants where two samples have the same genotype, i.e. not real variants. The parameters consist of:\n",
    "\n",
    "1. `samples` - list of 2 samples being analyzed.\n",
    "2. `vcf_dataframe` - pandas dataframe containing the `GT_sampleName` field per sample.\n",
    "3. `genotype_list` - list of genotypes to be filtered out; normally, loci where both samples have 0/0, 1/1, or other genotypes that are not 0's or 1's could be filtered out with `extract_df_data()` function; these other genotypes could be 0/2, 1/3, 1/2, etc.\n",
    "\n",
    "<span style=\"color:red\">Change `genotypes` list variable to genotypes of choice.</span>"
   ]
  },
  {
   "cell_type": "code",
   "execution_count": null,
   "id": "confirmed-extreme",
   "metadata": {},
   "outputs": [],
   "source": [
    "genotypes = ['0/0', '1/1']   # to define\n",
    "vcf_df_04 = filter_sim_gt(samples, vcf_df_04, genotypes)\n",
    "vcf_df_04"
   ]
  },
  {
   "cell_type": "markdown",
   "id": "perceived-charity",
   "metadata": {},
   "source": [
    "### Genotype verification"
   ]
  },
  {
   "cell_type": "code",
   "execution_count": null,
   "id": "amended-performance",
   "metadata": {},
   "outputs": [],
   "source": [
    "variant_hist(samples, vcf_df_04, 'all', 'GT_%s' % progenitor, bins=15)"
   ]
  },
  {
   "cell_type": "code",
   "execution_count": null,
   "id": "liberal-singer",
   "metadata": {},
   "outputs": [],
   "source": [
    "variant_hist(samples, vcf_df_04, 'all', 'GT_%s' % mutant, bins=15)"
   ]
  },
  {
   "cell_type": "markdown",
   "id": "lucky-protection",
   "metadata": {},
   "source": [
    "### Contingency Table after GT extraction"
   ]
  },
  {
   "cell_type": "code",
   "execution_count": null,
   "id": "joint-command",
   "metadata": {},
   "outputs": [],
   "source": [
    "ct_table(samples, vcf_df_04, 'all')"
   ]
  },
  {
   "cell_type": "markdown",
   "id": "addressed-mercy",
   "metadata": {},
   "source": [
    "### GT Plot after GT Extraction"
   ]
  },
  {
   "cell_type": "code",
   "execution_count": null,
   "id": "functional-surprise",
   "metadata": {},
   "outputs": [],
   "source": [
    "plt.close('all')\n",
    "gt_plot(samples, vcf_df_04, chrom_len_00, linethickness=0.3)"
   ]
  },
  {
   "cell_type": "markdown",
   "id": "genuine-temperature",
   "metadata": {},
   "source": [
    "### GT Plots per chromosome"
   ]
  },
  {
   "cell_type": "code",
   "execution_count": null,
   "id": "altered-premium",
   "metadata": {},
   "outputs": [],
   "source": [
    "plt.close('all')\n",
    "gt_plots(samples, vcf_df_04, chrom_len_00, linethickness=0.3)"
   ]
  },
  {
   "cell_type": "markdown",
   "id": "convenient-prefix",
   "metadata": {},
   "source": [
    "### Stacked Bar Plots of Genotypes"
   ]
  },
  {
   "cell_type": "code",
   "execution_count": null,
   "id": "electrical-suspension",
   "metadata": {},
   "outputs": [],
   "source": [
    "ct_guide()"
   ]
  },
  {
   "cell_type": "code",
   "execution_count": null,
   "id": "golden-municipality",
   "metadata": {},
   "outputs": [],
   "source": [
    "plt.close('all')\n",
    "window_size = 1000000   # to define\n",
    "ct_bar_plots(samples, vcf_df_04, chrom_len_00, window_size)"
   ]
  },
  {
   "cell_type": "markdown",
   "id": "assumed-clear",
   "metadata": {},
   "source": [
    "### Bar plots per chromosome"
   ]
  },
  {
   "cell_type": "code",
   "execution_count": null,
   "id": "rising-shell",
   "metadata": {},
   "outputs": [],
   "source": [
    "plt.close('all')\n",
    "gt_bar_plots(samples, vcf_df_04, chrom_len_00, window_size)"
   ]
  },
  {
   "cell_type": "markdown",
   "id": "expected-tobago",
   "metadata": {},
   "source": [
    "### Contingency tables per chromosome"
   ]
  },
  {
   "cell_type": "code",
   "execution_count": null,
   "id": "portable-height",
   "metadata": {},
   "outputs": [],
   "source": [
    "for chromosome in natsorted(chromosomes):\n",
    "    chrom_filter = \"CHROM == %s\" % chromosome\n",
    "    chromosome_df = extract_df_data(vcf_df_04, chrom_filter)\n",
    "    ct_table(samples, chromosome_df, chromosome)"
   ]
  },
  {
   "cell_type": "markdown",
   "id": "tight-mistress",
   "metadata": {},
   "source": [
    "## <span style=\"color:blue\">PART 6: GTs Extraction of 0/0 Progenitor and 1/1 Mutant</span>"
   ]
  },
  {
   "cell_type": "markdown",
   "id": "increased-entry",
   "metadata": {},
   "source": [
    "### Extraction of progenitor with 0/0 GT and mutant with 1/1 GT\n",
    "\n",
    "<span style=\"color:red\">Change `gt_filters` accordingly.</span>"
   ]
  },
  {
   "cell_type": "code",
   "execution_count": null,
   "id": "respected-colombia",
   "metadata": {},
   "outputs": [],
   "source": [
    "gt_filter = \"GT_%s == 0/0, GT_%s == 1/1\" % (progenitor, mutant)   # to define\n",
    "vcf_df_05 = extract_df_data(vcf_df_04, gt_filter)\n",
    "vcf_df_05"
   ]
  },
  {
   "cell_type": "markdown",
   "id": "municipal-services",
   "metadata": {},
   "source": [
    "### Contingency Table after GT extraction of progenitor with 0/0 GT and mutant with 1/1 GT"
   ]
  },
  {
   "cell_type": "code",
   "execution_count": null,
   "id": "electrical-identifier",
   "metadata": {},
   "outputs": [],
   "source": [
    "ct_table(samples, vcf_df_05, 'all')"
   ]
  },
  {
   "cell_type": "markdown",
   "id": "controlled-camcorder",
   "metadata": {},
   "source": [
    "### GT Plot of progenitor with 0/0 GT and mutant with 1/1 GT"
   ]
  },
  {
   "cell_type": "code",
   "execution_count": null,
   "id": "radical-intensity",
   "metadata": {},
   "outputs": [],
   "source": [
    "plt.close('all')\n",
    "gt_plot(samples, vcf_df_05, chrom_len_00, linethickness=2.0)"
   ]
  },
  {
   "cell_type": "markdown",
   "id": "accompanied-monkey",
   "metadata": {},
   "source": [
    "### GT Plots per Chromosome of progenitor with 0/0 GT and mutant with 1/1 GT"
   ]
  },
  {
   "cell_type": "code",
   "execution_count": null,
   "id": "statistical-serial",
   "metadata": {},
   "outputs": [],
   "source": [
    "plt.close('all')\n",
    "gt_plots(samples, vcf_df_05, chrom_len_00, linethickness=2.0)"
   ]
  },
  {
   "cell_type": "markdown",
   "id": "useful-postage",
   "metadata": {},
   "source": [
    "### Contingency tables per chromosome"
   ]
  },
  {
   "cell_type": "code",
   "execution_count": null,
   "id": "perceived-battle",
   "metadata": {},
   "outputs": [],
   "source": [
    "for chromosome in natsorted(chromosomes):\n",
    "    chrom_filter = \"CHROM == %s\" % chromosome\n",
    "    chromosome_df = extract_df_data(vcf_df_05, chrom_filter)\n",
    "    ct_table(samples, chromosome_df, chromosome)"
   ]
  },
  {
   "cell_type": "markdown",
   "id": "combined-district",
   "metadata": {},
   "source": [
    "## <span style=\"color:blue\">PART 7: CSV File Creation from Dataframes</span>"
   ]
  },
  {
   "cell_type": "markdown",
   "id": "approved-mixture",
   "metadata": {},
   "source": [
    "### CSV of progenitor 0/0 and mutant 1/1 dataframe\n",
    "\n",
    "<span style=\"color:red\">Change `path_to_save_csv` accordingly.</span>"
   ]
  },
  {
   "cell_type": "code",
   "execution_count": null,
   "id": "stainless-purpose",
   "metadata": {},
   "outputs": [],
   "source": [
    "path_to_save_csv = 'crop_prog00_mut11.csv'   # to define\n",
    "vcf_df_05.to_csv(path_to_save_csv, index=False)"
   ]
  },
  {
   "cell_type": "markdown",
   "id": "welcome-satin",
   "metadata": {},
   "source": [
    "### CSV of Genotypes 0/0, 0/1, 1/1, ./.\n",
    "\n",
    "<span style=\"color:red\">Change `path_to_save_csv` accordingly.</span>"
   ]
  },
  {
   "cell_type": "code",
   "execution_count": null,
   "id": "crazy-trial",
   "metadata": {},
   "outputs": [],
   "source": [
    "path_to_save_csv = 'crop_sampleA_asmpleB.csv'   # to define\n",
    "vcf_df_04.to_csv(path_to_save_csv, index=False)"
   ]
  }
 ],
 "metadata": {
  "kernelspec": {
   "display_name": "Python 3 (ipykernel)",
   "language": "python",
   "name": "python3"
  },
  "language_info": {
   "codemirror_mode": {
    "name": "ipython",
    "version": 3
   },
   "file_extension": ".py",
   "mimetype": "text/x-python",
   "name": "python",
   "nbconvert_exporter": "python",
   "pygments_lexer": "ipython3",
   "version": "3.7.12"
  }
 },
 "nbformat": 4,
 "nbformat_minor": 5
}
